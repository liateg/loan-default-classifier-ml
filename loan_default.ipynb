{
  "nbformat": 4,
  "nbformat_minor": 0,
  "metadata": {
    "colab": {
      "provenance": [],
      "authorship_tag": "ABX9TyOcTDWHrFKam7YaPy1MuRv+",
      "include_colab_link": true
    },
    "kernelspec": {
      "name": "python3",
      "display_name": "Python 3"
    },
    "language_info": {
      "name": "python"
    }
  },
  "cells": [
    {
      "cell_type": "markdown",
      "metadata": {
        "id": "view-in-github",
        "colab_type": "text"
      },
      "source": [
        "<a href=\"https://colab.research.google.com/github/liateg/loan-default-classifier-ml/blob/main/loan_default.ipynb\" target=\"_parent\"><img src=\"https://colab.research.google.com/assets/colab-badge.svg\" alt=\"Open In Colab\"/></a>"
      ]
    },
    {
      "cell_type": "code",
      "execution_count": 1,
      "metadata": {
        "id": "EZH7V5mbRbcM",
        "colab": {
          "base_uri": "https://localhost:8080/"
        },
        "outputId": "dcedf96a-fbe0-4400-ae5b-4292472f6e03"
      },
      "outputs": [
        {
          "output_type": "stream",
          "name": "stdout",
          "text": [
            "print from colav\n"
          ]
        }
      ],
      "source": [
        "print(\"print from colav\")\n",
        "#changede and synced"
      ]
    },
    {
      "cell_type": "code",
      "source": [],
      "metadata": {
        "id": "WPCAy0ofSWV_"
      },
      "execution_count": null,
      "outputs": []
    }
  ]
}